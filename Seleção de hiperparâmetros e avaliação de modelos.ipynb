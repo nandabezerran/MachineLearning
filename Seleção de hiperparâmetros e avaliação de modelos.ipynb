{
 "cells": [
  {
   "cell_type": "code",
   "execution_count": 12,
   "metadata": {},
   "outputs": [],
   "source": [
    "import numpy as np\n",
    "import pandas as pd"
   ]
  },
  {
   "cell_type": "code",
   "execution_count": 11,
   "metadata": {},
   "outputs": [
    {
     "name": "stdout",
     "output_type": "stream",
     "text": [
      "alpha:  1e-05 \t lamb:  0.001\n",
      "alpha:  0.0001 \t lamb:  0.001\n",
      "alpha:  0.001 \t lamb:  0.001\n",
      "alpha:  0.01 \t lamb:  0.001\n",
      "alpha:  0.1 \t lamb:  0.001\n",
      "alpha:  1e-05 \t lamb:  0.01778279410038923\n",
      "alpha:  0.0001 \t lamb:  0.01778279410038923\n",
      "alpha:  0.001 \t lamb:  0.01778279410038923\n",
      "alpha:  0.01 \t lamb:  0.01778279410038923\n",
      "alpha:  0.1 \t lamb:  0.01778279410038923\n",
      "alpha:  1e-05 \t lamb:  0.31622776601683794\n",
      "alpha:  0.0001 \t lamb:  0.31622776601683794\n",
      "alpha:  0.001 \t lamb:  0.31622776601683794\n",
      "alpha:  0.01 \t lamb:  0.31622776601683794\n",
      "alpha:  0.1 \t lamb:  0.31622776601683794\n",
      "alpha:  1e-05 \t lamb:  5.623413251903491\n",
      "alpha:  0.0001 \t lamb:  5.623413251903491\n",
      "alpha:  0.001 \t lamb:  5.623413251903491\n",
      "alpha:  0.01 \t lamb:  5.623413251903491\n",
      "alpha:  0.1 \t lamb:  5.623413251903491\n",
      "alpha:  1e-05 \t lamb:  100.0\n",
      "alpha:  0.0001 \t lamb:  100.0\n",
      "alpha:  0.001 \t lamb:  100.0\n",
      "alpha:  0.01 \t lamb:  100.0\n",
      "alpha:  0.1 \t lamb:  100.0\n"
     ]
    }
   ],
   "source": [
    "grid_search = np.meshgrid(np.logspace(-5, -1, 5), # alpha\n",
    "                          np.logspace(-3, 2, 5))  # lambda\n",
    "for i in range(grid_search[0].shape[0]):\n",
    "    for j in range(grid_search[1].shape[1]):\n",
    "        alpha = grid_search[0][i,j]\n",
    "        lamb = grid_search[1][i,j]\n",
    "        print(\"alpha: \",alpha ,\"\\t\",\"lamb: \" ,lamb)"
   ]
  },
  {
   "cell_type": "code",
   "execution_count": 1,
   "metadata": {},
   "outputs": [],
   "source": [
    "def crossValidationSplit(xMatrix, yVector, n_folds): \n",
    "    xMatrixSplit = []\n",
    "    yVectorSplit = []\n",
    "    xMatrixCopy = xMatrix\n",
    "\n",
    "    yVectorCopy = yVector\n",
    "    foldSize = int(len(xMatrix) / n_folds) \n",
    "    \n",
    "    for i in range(n_folds): \n",
    "        foldXM = [] \n",
    "        foldYV = []\n",
    "        while len(foldXM) < foldSize: \n",
    "            index = rd.randrange(len(xMatrixCopy)) \n",
    "            foldXM.append(xMatrixCopy[index]) \n",
    "            xMatrixCopy = np.delete(xMatrixCopy, index, axis=0)\n",
    "            foldYV.append(yVectorCopy[index]) \n",
    "            yVectorCopy = np.delete(yVectorCopy, index)\n",
    "        xMatrixSplit.append(foldXM)\n",
    "        yVectorSplit.append(foldYV)\n",
    "    return xMatrixSplit, yVectorSplit\n",
    "\n",
    "def kFoldCrossValidation(xMatrix, yVector, kParts, algorithm, *args):\n",
    "    xMFolds, yVFolds = crossValidationSplit(xMatrix, yVector, kParts) \n",
    "    scores = list() \n",
    "    count = 0;\n",
    "    for fold in xMFolds: \n",
    "        xTrain = xMFolds\n",
    "        yTrain = yVFolds\n",
    "        \n",
    "        xTest = xTrain[count]\n",
    "        yTest = np.array(yTrain[count])\n",
    "        \n",
    "        np.delete(xTrain,count)\n",
    "        np.delete(yTrain,count)\n",
    "        \n",
    "        yTrain = np.stack(yTrain)\n",
    "        yTrain = yTrain.ravel()\n",
    "        xTrainAux = []\n",
    "\n",
    "        for i in range(kParts):\n",
    "            for j in range(len(xTrain[i])):\n",
    "                xTrainAux.append(xTrain[i][j])\n",
    "        xTrain = np.stack(xTrainAux)\n",
    "        yTest = np.where(yTest < 0, 0, yTest)\n",
    "        predicted = algorithm(xTrain, yTrain, xTest,  *args)\n",
    "        for i in range(len(predicted)):\n",
    "            print(\"Predicted: \",predicted[i],\"Actual: \",yTest[i])\n",
    "        accuracy = np.array([x - y for x, y in zip(predicted, yTest)])/kParts\n",
    "        scores.append(accuracy) \n",
    "    return scores"
   ]
  },
  {
   "cell_type": "code",
   "execution_count": null,
   "metadata": {},
   "outputs": [],
   "source": []
  }
 ],
 "metadata": {
  "kernelspec": {
   "display_name": "Python 3",
   "language": "python",
   "name": "python3"
  },
  "language_info": {
   "codemirror_mode": {
    "name": "ipython",
    "version": 3
   },
   "file_extension": ".py",
   "mimetype": "text/x-python",
   "name": "python",
   "nbconvert_exporter": "python",
   "pygments_lexer": "ipython3",
   "version": "3.6.8"
  }
 },
 "nbformat": 4,
 "nbformat_minor": 2
}
