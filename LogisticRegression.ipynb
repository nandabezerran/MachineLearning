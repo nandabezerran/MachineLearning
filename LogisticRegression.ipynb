{
 "cells": [
  {
   "cell_type": "code",
   "execution_count": 3,
   "metadata": {},
   "outputs": [],
   "source": [
    "import numpy as np\n",
    "import pandas as pd\n",
    "import matplotlib.pyplot as plt\n",
    "import random as rd"
   ]
  },
  {
   "cell_type": "code",
   "execution_count": 4,
   "metadata": {},
   "outputs": [],
   "source": [
    "data_table = pd.read_csv('iris.csv', names =['sepal_length', 'sepal_width', 'petal_length', 'petal_width', 'flower'])"
   ]
  },
  {
   "cell_type": "code",
   "execution_count": 109,
   "metadata": {},
   "outputs": [
    {
     "data": {
      "text/html": [
       "<div>\n",
       "<style scoped>\n",
       "    .dataframe tbody tr th:only-of-type {\n",
       "        vertical-align: middle;\n",
       "    }\n",
       "\n",
       "    .dataframe tbody tr th {\n",
       "        vertical-align: top;\n",
       "    }\n",
       "\n",
       "    .dataframe thead th {\n",
       "        text-align: right;\n",
       "    }\n",
       "</style>\n",
       "<table border=\"1\" class=\"dataframe\">\n",
       "  <thead>\n",
       "    <tr style=\"text-align: right;\">\n",
       "      <th></th>\n",
       "      <th>sepal_length</th>\n",
       "      <th>sepal_width</th>\n",
       "      <th>petal_length</th>\n",
       "      <th>petal_width</th>\n",
       "      <th>flower</th>\n",
       "    </tr>\n",
       "  </thead>\n",
       "  <tbody>\n",
       "    <tr>\n",
       "      <th>0</th>\n",
       "      <td>5.1</td>\n",
       "      <td>3.5</td>\n",
       "      <td>1.4</td>\n",
       "      <td>0.2</td>\n",
       "      <td>0</td>\n",
       "    </tr>\n",
       "    <tr>\n",
       "      <th>1</th>\n",
       "      <td>4.9</td>\n",
       "      <td>3.0</td>\n",
       "      <td>1.4</td>\n",
       "      <td>0.2</td>\n",
       "      <td>0</td>\n",
       "    </tr>\n",
       "    <tr>\n",
       "      <th>2</th>\n",
       "      <td>4.7</td>\n",
       "      <td>3.2</td>\n",
       "      <td>1.3</td>\n",
       "      <td>0.2</td>\n",
       "      <td>0</td>\n",
       "    </tr>\n",
       "    <tr>\n",
       "      <th>3</th>\n",
       "      <td>4.6</td>\n",
       "      <td>3.1</td>\n",
       "      <td>1.5</td>\n",
       "      <td>0.2</td>\n",
       "      <td>0</td>\n",
       "    </tr>\n",
       "    <tr>\n",
       "      <th>4</th>\n",
       "      <td>5.0</td>\n",
       "      <td>3.6</td>\n",
       "      <td>1.4</td>\n",
       "      <td>0.2</td>\n",
       "      <td>0</td>\n",
       "    </tr>\n",
       "  </tbody>\n",
       "</table>\n",
       "</div>"
      ],
      "text/plain": [
       "   sepal_length  sepal_width  petal_length  petal_width  flower\n",
       "0           5.1          3.5           1.4          0.2       0\n",
       "1           4.9          3.0           1.4          0.2       0\n",
       "2           4.7          3.2           1.3          0.2       0\n",
       "3           4.6          3.1           1.5          0.2       0\n",
       "4           5.0          3.6           1.4          0.2       0"
      ]
     },
     "execution_count": 109,
     "metadata": {},
     "output_type": "execute_result"
    }
   ],
   "source": [
    "data_table.head()"
   ]
  },
  {
   "cell_type": "code",
   "execution_count": 5,
   "metadata": {},
   "outputs": [],
   "source": [
    "def normalization(matrix, vector):\n",
    "    #Mean calculation\n",
    "    mVector = np.mean(vector, axis=0)\n",
    "    mMatrix = np.mean(matrix, axis=0)\n",
    "    \n",
    "    #Standard deviation\n",
    "    stdVector = np.std(vector, axis = 0)\n",
    "    stdMatrix = np.std(matrix, axis = 0)\n",
    "     \n",
    "    #Normalization of data\n",
    "    vector = (vector - mVector)/stdVector\n",
    "    matrix = (matrix - mMatrix)/stdMatrix\n",
    "    \n",
    "    return matrix, vector"
   ]
  },
  {
   "cell_type": "code",
   "execution_count": 144,
   "metadata": {},
   "outputs": [],
   "source": [
    "def gradientDescent(xMatrix, yVector, nEpochs, alpha):\n",
    "    initialW = np.ones(len(xMatrix[0]), dtype = float);\n",
    "    cost = []\n",
    "    yHat = xMatrix.dot(initialW)   \n",
    "    for i in range(nEpochs):\n",
    "        summation = 0;\n",
    "        for y, y_c, x in zip(yVector, yHat, xMatrix):\n",
    "            error = y - (1/(1 + np.exp(-(initialW * x))))\n",
    "            summation += error * x\n",
    "            \n",
    "        cost.append(-((1/len(xMatrix)) * summation))\n",
    "        \n",
    "        nextW =  initialW + (alpha/len(xMatrix))*summation\n",
    "        yHat = xMatrix.dot(nextW)\n",
    "        initialW = nextW\n",
    "    \n",
    "    return nextW\n",
    "\n",
    "def stochasticGradientDescent(xMatrix, yVector, nEpochs, alpha):\n",
    "    cost = []\n",
    "    data = np.append(xMatrix, np.array([[x] for x in yVector]), axis=1)\n",
    "    \n",
    "    initialW = np.ones(len(xMatrix[0]), dtype = float);\n",
    "    \n",
    "    yHat = xMatrix.dot(initialW)\n",
    "    for i in range(nEpochs):\n",
    "        summation = 0;\n",
    "        for y, yH, x in zip(yVector, yHat, xMatrix):\n",
    "            error = y - (1/(1 + np.exp(-yH))) * x\n",
    "            nextW = initialW + alpha * error \n",
    "            summation += error\n",
    "            \n",
    "        #cost.append(np.linalg.norm((1/len(xMatrix)) * summation, ord=1))\n",
    "        \n",
    "            \n",
    "        data = np.random.permutation(data)\n",
    "\n",
    "        yVector = data[:, -1]\n",
    "        xMatrix = data[:, :-1]\n",
    "        \n",
    "        yHat = xMatrix.dot(nextW)\n",
    "        initialW = nextW\n",
    "        \n",
    "    return nextW"
   ]
  },
  {
   "cell_type": "code",
   "execution_count": 145,
   "metadata": {},
   "outputs": [],
   "source": [
    "def crossValidationSplit(dataset, n_folds): \n",
    "    dataset_split = list() \n",
    "    dataset_copy = list(dataset.values.tolist()) \n",
    "    fold_size = int(len(dataset) / n_folds) \n",
    "    \n",
    "    for i in range(n_folds): \n",
    "        fold = list() \n",
    "        while len(fold) < fold_size: \n",
    "            index = rd.randrange(len(dataset_copy)) \n",
    "            fold.append(dataset_copy.pop(index)) \n",
    "        dataset_split.append(fold) \n",
    "    return dataset_split\n",
    "\n",
    "def kFoldCrossValidation(dataset, kParts, algorithm, *args):\n",
    "    folds = crossValidationSplit(dataset, kParts) \n",
    "    scores = list() \n",
    "    for fold in folds: \n",
    "        train_set = list(folds) \n",
    "        train_set.remove(fold) \n",
    "        train_set = sum(train_set, []) \n",
    "        test_set = list() \n",
    "        \n",
    "        for row in fold: \n",
    "            row_copy = list(row) \n",
    "            test_set.append(row_copy) \n",
    "            row_copy[-1] = None \n",
    "            \n",
    "        predicted = algorithm(train_set, test_set, *args) \n",
    "        actual = [row[-1] for row in fold] \n",
    "        accuracy = (predicted - actual)/kParts\n",
    "        scores.append(accuracy) \n",
    "    return scores"
   ]
  },
  {
   "cell_type": "code",
   "execution_count": 146,
   "metadata": {},
   "outputs": [],
   "source": [
    "def predict(xTest, coefficients): \n",
    "    yhat = xTest.dot(coefficients)\n",
    "    return 1 / (1 + np.exp(-yhat))\n",
    "\n",
    "def logisticRegression(train, test, alpha, epochs): \n",
    "    train = pd.DataFrame(train)\n",
    "    test = pd.DataFrame(test)\n",
    "    \n",
    "    xTrain = np.array(train.iloc[:,0:4])\n",
    "    yTrain = np.array(train[4])\n",
    "    xTest = np.array(test.iloc[:,0:4]) \n",
    "    \n",
    "    xTrain, yTrain = normalization(xTrain, yTrain)\n",
    "    coef = stochasticGradientDescent(xTrain, yTrain, alpha, epochs) \n",
    "    print(coef)\n",
    "    yhat = predict(xTest, coef) \n",
    " \n",
    "    for i in range(len(yhat)):\n",
    "        yhat[i] = round(yhat[i]) \n",
    "    print(yhat)\n",
    "    return(yhat)"
   ]
  },
  {
   "cell_type": "code",
   "execution_count": 147,
   "metadata": {
    "scrolled": true
   },
   "outputs": [
    {
     "name": "stdout",
     "output_type": "stream",
     "text": [
      "[0.74638772 1.09633473 0.74437189 0.74185676]\n",
      "[1. 1. 1. 1. 1. 1. 1. 1. 1. 1.]\n",
      "[0.70287612 1.10270414 0.72839278 0.73171662]\n",
      "[1. 1. 1. 1. 1. 1. 1. 1. 1. 1.]\n",
      "[0.67217378 0.99699806 0.71621356 0.70405402]\n",
      "[1. 1. 1. 1. 1. 1. 1. 1. 1. 1.]\n",
      "[0.6673797  0.9879349  0.6881667  0.68368028]\n",
      "[1. 1. 1. 1. 1. 1. 1. 1. 1. 1.]\n",
      "[0.70917232 1.06294838 0.71611322 0.71003998]\n",
      "[1. 1. 1. 1. 1. 1. 1. 1. 1. 1.]\n",
      "[0.68879067 0.98490777 0.70606599 0.70143519]\n",
      "[1. 1. 1. 1. 1. 1. 1. 1. 1. 1.]\n",
      "[0.67376235 1.03458476 0.70511934 0.70727278]\n",
      "[1. 1. 1. 1. 1. 1. 1. 1. 1. 1.]\n",
      "[0.70159009 1.06317954 0.72715493 0.73291553]\n",
      "[1. 1. 1. 1. 1. 1. 1. 1. 1. 1.]\n",
      "[0.679828   1.06612278 0.70621307 0.70407167]\n",
      "[1. 1. 1. 1. 1. 1. 1. 1. 1. 1.]\n",
      "[0.65424372 0.97028658 0.69668208 0.69647834]\n",
      "[1. 1. 1. 1. 1. 1. 1. 1. 1. 1.]\n"
     ]
    },
    {
     "data": {
      "text/plain": [
       "[array([0. , 0. , 0.1, 0. , 0.1, 0.1, 0.1, 0.1, 0. , 0. ]),\n",
       " array([0.1, 0. , 0.1, 0.1, 0.1, 0. , 0.1, 0. , 0. , 0. ]),\n",
       " array([0.1, 0.1, 0. , 0. , 0. , 0. , 0. , 0.1, 0. , 0.1]),\n",
       " array([0.1, 0.1, 0. , 0. , 0. , 0.1, 0.1, 0.1, 0. , 0.1]),\n",
       " array([0.1, 0. , 0. , 0.1, 0.1, 0. , 0.1, 0.1, 0.1, 0. ]),\n",
       " array([0. , 0. , 0. , 0.1, 0. , 0.1, 0. , 0.1, 0. , 0.1]),\n",
       " array([0. , 0.1, 0.1, 0.1, 0. , 0. , 0. , 0.1, 0. , 0. ]),\n",
       " array([0.1, 0. , 0. , 0. , 0.1, 0. , 0.1, 0. , 0.1, 0.1]),\n",
       " array([0. , 0. , 0.1, 0.1, 0. , 0.1, 0.1, 0. , 0. , 0. ]),\n",
       " array([0. , 0. , 0.1, 0.1, 0. , 0.1, 0.1, 0.1, 0.1, 0.1])]"
      ]
     },
     "execution_count": 147,
     "metadata": {},
     "output_type": "execute_result"
    }
   ],
   "source": [
    "epochs = 1000 \n",
    "alpha =  0.001\n",
    "kFoldCrossValidation(data_table, 10, logisticRegression, epochs, alpha)"
   ]
  },
  {
   "cell_type": "code",
   "execution_count": null,
   "metadata": {},
   "outputs": [],
   "source": []
  }
 ],
 "metadata": {
  "kernelspec": {
   "display_name": "Python 3",
   "language": "python",
   "name": "python3"
  },
  "language_info": {
   "codemirror_mode": {
    "name": "ipython",
    "version": 3
   },
   "file_extension": ".py",
   "mimetype": "text/x-python",
   "name": "python",
   "nbconvert_exporter": "python",
   "pygments_lexer": "ipython3",
   "version": "3.6.8"
  }
 },
 "nbformat": 4,
 "nbformat_minor": 2
}
