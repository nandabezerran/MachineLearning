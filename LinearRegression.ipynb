{
 "cells": [
  {
   "cell_type": "code",
   "execution_count": 1,
   "metadata": {},
   "outputs": [],
   "source": [
    "import numpy as np\n",
    "import pandas as pd\n",
    "import matplotlib.pyplot as plt"
   ]
  },
  {
   "cell_type": "code",
   "execution_count": 2,
   "metadata": {},
   "outputs": [],
   "source": [
    "data_table = pd.DataFrame({'Peso': np.array([40.0, 93.5, 35.5, 30.0, 52.0, 17.0, 38.5,  8.5, 33.0,  9.5, 21.0, 79.0]) / 2.205,\n",
    "                            'Altura': np.array([42.8, 63.5, 37.5, 39.5, 45.5, 38.5, 43.0, 22.5, 37.0, 23.5, 33.0, 58.0]) / 39.37,\n",
    "                            'Cateter': [37, 50, 34, 36, 43, 28, 37, 20, 34, 30, 38, 47]},\n",
    "                            dtype='float')"
   ]
  },
  {
   "cell_type": "code",
   "execution_count": 3,
   "metadata": {},
   "outputs": [],
   "source": [
    "def normalization(matrix, vector):\n",
    "    #Mean calculation\n",
    "    mVector = np.mean(vector, axis=0)\n",
    "    mMatrix = np.mean(matrix, axis=0)\n",
    "    \n",
    "    #Standard deviation\n",
    "    stdVector = np.std(vector, axis = 0)\n",
    "    stdMatrix = np.std(matrix, axis = 0)\n",
    "     \n",
    "    #Normalization of data\n",
    "    vector = (vector - mVector)/stdVector\n",
    "    matrix = (matrix - mMatrix)/stdMatrix\n",
    "    \n",
    "    return matrix, vector"
   ]
  },
  {
   "cell_type": "code",
   "execution_count": 4,
   "metadata": {},
   "outputs": [],
   "source": [
    "xMatrix = data_table[['Peso', 'Altura']].values\n",
    "yVector = data_table['Cateter'].values"
   ]
  },
  {
   "cell_type": "code",
   "execution_count": 5,
   "metadata": {},
   "outputs": [],
   "source": [
    "xMatrix, yVector = normalization(xMatrix, yVector)\n",
    "xMatrix = np.insert(xMatrix, 0, np.ones(len(xMatrix), dtype=float), axis=1)"
   ]
  },
  {
   "cell_type": "code",
   "execution_count": 6,
   "metadata": {},
   "outputs": [],
   "source": [
    "def gradientDescent(xMatrix, yVector, nEpochs, alpha):\n",
    "    initialW = np.ones(len(xMatrix[0]), dtype = float);\n",
    "    cost = []\n",
    "    yHat = xMatrix.dot(initialW)    \n",
    "    for i in range(nEpochs):\n",
    "        summation = 0;\n",
    "        for y, y_c, x in zip(yVector, yHat, xMatrix):\n",
    "            summation += (y - y_c) * x\n",
    "            \n",
    "        cost.append(-((1/len(xMatrix)) * summation))\n",
    "        \n",
    "        nextW =  initialW + (alpha/len(xMatrix))*summation\n",
    "        yHat = xMatrix.dot(nextW)\n",
    "        initialW = nextW\n",
    "    return nextW, cost"
   ]
  },
  {
   "cell_type": "code",
   "execution_count": 7,
   "metadata": {},
   "outputs": [],
   "source": [
    "nextW, cost = gradientDescent(xMatrix, yVector, 10000, 0.001)"
   ]
  },
  {
   "cell_type": "code",
   "execution_count": 8,
   "metadata": {},
   "outputs": [],
   "source": [
    "t = np.arange(0., 10000., 1.)\n",
    "costColumns = [sub[0] for sub in cost] "
   ]
  },
  {
   "cell_type": "code",
   "execution_count": 9,
   "metadata": {
    "scrolled": true
   },
   "outputs": [
    {
     "data": {
      "text/plain": [
       "[<matplotlib.lines.Line2D at 0x1d0d6741048>]"
      ]
     },
     "execution_count": 9,
     "metadata": {},
     "output_type": "execute_result"
    },
    {
     "data": {
      "image/png": "[encoded data removed]",
      "text/plain": [
       "<Figure size 432x288 with 1 Axes>"
      ]
     },
     "metadata": {
      "needs_background": "light"
     },
     "output_type": "display_data"
    }
   ],
   "source": [
    "plt.plot(t, costColumns)\n"
   ]
  },
  {
   "cell_type": "code",
   "execution_count": 10,
   "metadata": {},
   "outputs": [
    {
     "data": {
      "text/plain": [
       "array([4.51733460e-05, 5.06796889e-01, 4.09680295e-01])"
      ]
     },
     "execution_count": 10,
     "metadata": {},
     "output_type": "execute_result"
    }
   ],
   "source": [
    "nextW"
   ]
  },
  {
   "cell_type": "code",
   "execution_count": 11,
   "metadata": {},
   "outputs": [],
   "source": [
    "def stochasticGradientDescent(xMatrix, yVector, nEpochs, alpha):\n",
    "    cost = []\n",
    "    \n",
    "    data = np.append(xMatrix, np.array([[x] for x in yVector]), axis=1)\n",
    "    \n",
    "    initialW = np.ones(len(xMatrix[0]), dtype = float);\n",
    "    \n",
    "    yHat = xMatrix.dot(initialW)\n",
    "    \n",
    "    for i in range(nEpochs):\n",
    "        summation = 0;\n",
    "        for y, yH, x in zip(yVector, yHat, xMatrix):\n",
    "            aux = (y - yH) * x\n",
    "            nextW = initialW + alpha * (y - yH) * x\n",
    "            summation += aux\n",
    "            \n",
    "        cost.append(np.linalg.norm((1/len(xMatrix)) * summation, ord=1))\n",
    "        \n",
    "            \n",
    "        data = np.random.permutation(data)\n",
    "\n",
    "        yVector = data[:, -1]\n",
    "        xMatrix = data[:, :-1]\n",
    "        \n",
    "        yHat = xMatrix.dot(nextW)\n",
    "        initialW = nextW\n",
    "        \n",
    "    return nextW, cost"
   ]
  },
  {
   "cell_type": "code",
   "execution_count": 12,
   "metadata": {},
   "outputs": [],
   "source": [
    "nextW, cost = stochasticGradientDescent(xMatrix, yVector, 10000, 0.001)"
   ]
  },
  {
   "cell_type": "code",
   "execution_count": 13,
   "metadata": {},
   "outputs": [
    {
     "data": {
      "text/plain": [
       "[<matplotlib.lines.Line2D at 0x1d0d639ef28>]"
      ]
     },
     "execution_count": 13,
     "metadata": {},
     "output_type": "execute_result"
    },
    {
     "data": {
      "image/png": "[encoded data removed]",
      "text/plain": [
       "<Figure size 432x288 with 1 Axes>"
      ]
     },
     "metadata": {
      "needs_background": "light"
     },
     "output_type": "display_data"
    }
   ],
   "source": [
    "t = np.arange(0., 10000., 1.)\n",
    "costColumns = cost\n",
    "plt.plot(t, costColumns)"
   ]
  },
  {
   "cell_type": "code",
   "execution_count": 14,
   "metadata": {},
   "outputs": [
    {
     "data": {
      "text/plain": [
       "array([-0.00094469,  0.5076647 ,  0.40117479])"
      ]
     },
     "execution_count": 14,
     "metadata": {},
     "output_type": "execute_result"
    }
   ],
   "source": [
    "nextW"
   ]
  },
  {
   "cell_type": "code",
   "execution_count": 15,
   "metadata": {},
   "outputs": [],
   "source": [
    "def analiticRegression(xMatrix, yVector):\n",
    "    xTranspose = np.transpose(xMatrix)\n",
    "    return np.linalg.inv(xTranspose.dot(xMatrix)).dot(xTranspose).dot(yVector) "
   ]
  },
  {
   "cell_type": "code",
   "execution_count": 16,
   "metadata": {},
   "outputs": [
    {
     "data": {
      "text/plain": [
       "array([3.74700271e-16, 6.08893878e-01, 3.07583303e-01])"
      ]
     },
     "execution_count": 16,
     "metadata": {},
     "output_type": "execute_result"
    }
   ],
   "source": [
    "analiticRegression(xMatrix, yVector)"
   ]
  }
 ],
 "metadata": {
  "kernelspec": {
   "display_name": "Python 3",
   "language": "python",
   "name": "python3"
  },
  "language_info": {
   "codemirror_mode": {
    "name": "ipython",
    "version": 3
   },
   "file_extension": ".py",
   "mimetype": "text/x-python",
   "name": "python",
   "nbconvert_exporter": "python",
   "pygments_lexer": "ipython3",
   "version": "3.6.8"
  }
 },
 "nbformat": 4,
 "nbformat_minor": 4
}
